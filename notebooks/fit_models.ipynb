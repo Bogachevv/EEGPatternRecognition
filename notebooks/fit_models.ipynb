{
 "cells": [
  {
   "cell_type": "code",
   "execution_count": 1,
   "metadata": {
    "executionInfo": {
     "elapsed": 7,
     "status": "ok",
     "timestamp": 1677784395662,
     "user": {
      "displayName": "СИДОРОВ ЛЕОНИД СТАНИСЛАВОВИЧ",
      "userId": "13697575557037216226"
     },
     "user_tz": -180
    },
    "id": "BzAwI6fqV-e-",
    "tags": []
   },
   "outputs": [],
   "source": [
    "%load_ext autoreload\n",
    "%autoreload 2"
   ]
  },
  {
   "cell_type": "code",
   "execution_count": 2,
   "metadata": {
    "executionInfo": {
     "elapsed": 12081,
     "status": "ok",
     "timestamp": 1677784542786,
     "user": {
      "displayName": "СИДОРОВ ЛЕОНИД СТАНИСЛАВОВИЧ",
      "userId": "13697575557037216226"
     },
     "user_tz": -180
    },
    "id": "TL_s9bnAYZiU",
    "tags": []
   },
   "outputs": [],
   "source": [
    "import sys\n",
    "sys.path.append('../src')\n",
    "\n",
    "from data import GraphMatrixDataset, CNNMatrixDataset\n",
    "from utils import P300Getter, train_model, plot_sample, show_progress\n",
    "from interpretation import *\n",
    "from models_cnn import *\n",
    "from models_gnn import *\n",
    "from graph import get_delaunay_graph, get_pos_init_graph, plot_graph, get_neighbors_graph\n",
    "import run_exp\n",
    "import regularization"
   ]
  },
  {
   "cell_type": "code",
   "execution_count": 3,
   "metadata": {
    "executionInfo": {
     "elapsed": 515,
     "status": "ok",
     "timestamp": 1677784547391,
     "user": {
      "displayName": "СИДОРОВ ЛЕОНИД СТАНИСЛАВОВИЧ",
      "userId": "13697575557037216226"
     },
     "user_tz": -180
    },
    "id": "ociIdIaMqvDe",
    "tags": []
   },
   "outputs": [],
   "source": [
    "import mne\n",
    "import pandas as pd\n",
    "import numpy as np\n",
    "import scipy.io\n",
    "import matplotlib.pyplot as plt\n",
    "import seaborn as sns\n",
    "from matplotlib.colors import LogNorm, Normalize\n",
    "from tqdm import tqdm\n",
    "\n",
    "import torch\n",
    "from torch import nn, optim\n",
    "from torch.optim.lr_scheduler import StepLR\n",
    "from torch.utils.data import Dataset, DataLoader\n",
    "from torch.nn import functional as F\n",
    "\n",
    "from scipy.spatial import Delaunay\n",
    "import networkx as nx\n",
    "import scipy.sparse as sp\n",
    "import time\n",
    "from sklearn.neighbors import NearestNeighbors\n",
    "\n",
    "from mne import Epochs, pick_types, events_from_annotations\n",
    "from mne.channels import make_standard_montage, DigMontage\n",
    "from mne.io import concatenate_raws, read_raw_edf\n",
    "from mne.datasets import eegbci\n",
    "from mne.decoding import Scaler\n",
    "\n",
    "from torch_geometric.data import Data, InMemoryDataset\n",
    "\n",
    "import wandb\n",
    "import pickle"
   ]
  },
  {
   "cell_type": "code",
   "execution_count": 4,
   "metadata": {
    "tags": []
   },
   "outputs": [],
   "source": [
    "import torch.multiprocessing as mp\n",
    "from torch.utils.data.distributed import DistributedSampler\n",
    "from torch.nn.parallel import DistributedDataParallel as DDP\n",
    "from torch.distributed import init_process_group, destroy_process_group\n",
    "import os\n",
    "\n",
    "import pathlib"
   ]
  },
  {
   "cell_type": "code",
   "execution_count": 5,
   "metadata": {},
   "outputs": [],
   "source": [
    "from IPython.display import clear_output"
   ]
  },
  {
   "cell_type": "code",
   "execution_count": 6,
   "metadata": {},
   "outputs": [
    {
     "name": "stdout",
     "output_type": "stream",
     "text": [
      "cuda:0\n"
     ]
    }
   ],
   "source": [
    "device = torch.device('cpu')\n",
    "if torch.cuda.is_available():\n",
    "    device = torch.device('cuda:0')\n",
    "\n",
    "print(device)"
   ]
  },
  {
   "cell_type": "code",
   "execution_count": 7,
   "metadata": {
    "executionInfo": {
     "elapsed": 20898,
     "status": "ok",
     "timestamp": 1677784571998,
     "user": {
      "displayName": "СИДОРОВ ЛЕОНИД СТАНИСЛАВОВИЧ",
      "userId": "13697575557037216226"
     },
     "user_tz": -180
    },
    "id": "Y9rQYa8cK9L9",
    "tags": []
   },
   "outputs": [
    {
     "name": "stdout",
     "output_type": "stream",
     "text": [
      "Success\n"
     ]
    }
   ],
   "source": [
    "DATA_PATH = pathlib.Path(r'C:\\Users\\Vladimir\\PycharmProjects\\EEGPatternRecognition\\matrix_dataset')\n",
    "\n",
    "train_A_raw = scipy.io.loadmat(DATA_PATH / 'Subject_A_Train.mat')\n",
    "test_A_raw = scipy.io.loadmat(DATA_PATH / 'Subject_A_Test.mat')\n",
    "\n",
    "eloc = mne.channels.read_custom_montage(DATA_PATH / 'eloc64.txt')\n",
    "info = mne.create_info(ch_names=eloc.ch_names, ch_types=['eeg'] * 64, sfreq=240)\n",
    "\n",
    "train_A_chars = list(train_A_raw['TargetChar'][0])\n",
    "test_A_chars = list('WQXPLZCOMRKO97YFZDEZ1DPI9NNVGRQDJCUVRMEUOOOJD2UFYPOO6J7LDGYEGOA5VHNEHBTXOO1TDOILUEE5BFAEEXAW_K4R3MRU')\n",
    "\n",
    "A_train_ds = P300Getter(train_A_raw, eloc, sample_size=72)\n",
    "A_test_ds = P300Getter(test_A_raw, eloc, sample_size=72, target_chars=test_A_chars)\n",
    "\n",
    "A_train_ds.get_cnn_p300_dataset(filter=True)\n",
    "A_test_ds.get_cnn_p300_dataset(filter=True)\n",
    "\n",
    "A_train_ds.upsample(4)\n",
    "#A_test_ds.upsample(2)\n",
    "\n",
    "X_train_A, y_train_A = A_train_ds.get_data()\n",
    "X_test_A, y_test_A = A_test_ds.get_data()\n",
    "\n",
    "clear_output()\n",
    "print(\"Success\")"
   ]
  },
  {
   "cell_type": "code",
   "execution_count": 8,
   "metadata": {
    "id": "5DqjEXGWiksz",
    "tags": []
   },
   "outputs": [],
   "source": [
    "train_A_dataset = CNNMatrixDataset(tensors=(X_train_A, y_train_A), with_target=True, transform=None)\n",
    "test_A_dataset = CNNMatrixDataset(tensors=(X_test_A, y_test_A), with_target=True, transform=None)\n",
    "\n",
    "batch_size = 1024\n",
    "\n",
    "train_A_CNN = DataLoader(train_A_dataset, batch_size=batch_size, shuffle=True)\n",
    "test_A_CNN = DataLoader(test_A_dataset, batch_size=batch_size, shuffle=True)\n",
    "\n",
    "data_loaders_CNN = {'train':train_A_CNN, 'val':test_A_CNN}"
   ]
  },
  {
   "cell_type": "code",
   "execution_count": 9,
   "metadata": {},
   "outputs": [
    {
     "data": {
      "text/plain": [
       "tensor([[ 6.8622e-03,  1.0667e-02,  3.4481e-03,  ..., -2.1118e-03,\n",
       "          5.2476e-03,  9.8840e-03],\n",
       "        [ 1.0667e-02,  5.4418e-04,  3.9523e-03,  ...,  2.1553e-03,\n",
       "          6.6262e-03,  3.1635e-04],\n",
       "        [ 3.4481e-03,  3.9523e-03, -6.8051e-03,  ...,  1.0208e-04,\n",
       "         -5.5562e-04,  3.8470e-03],\n",
       "        ...,\n",
       "        [-2.1118e-03,  2.1553e-03,  1.0208e-04,  ...,  1.4679e-02,\n",
       "          2.0596e-03,  1.4644e-04],\n",
       "        [ 5.2476e-03,  6.6262e-03, -5.5562e-04,  ...,  2.0596e-03,\n",
       "         -1.1903e-02,  2.9926e-03],\n",
       "        [ 9.8840e-03,  3.1635e-04,  3.8470e-03,  ...,  1.4644e-04,\n",
       "          2.9926e-03,  9.0171e-06]])"
      ]
     },
     "execution_count": 9,
     "metadata": {},
     "output_type": "execute_result"
    }
   ],
   "source": [
    "torch.manual_seed(44)\n",
    "np.random.seed(44)\n",
    "\n",
    "A_init = torch.empty(64, 64)\n",
    "k = math.sqrt(1 / (64 * 64))\n",
    "nn.init.uniform_(A_init, -k, k)\n",
    "A_init = (A_init + A_init.T) / 2\n",
    "\n",
    "A_init"
   ]
  },
  {
   "cell_type": "code",
   "execution_count": 10,
   "metadata": {},
   "outputs": [],
   "source": [
    "learning_params = {\n",
    "    'num_epochs' : 500,\n",
    "    # 'num_epochs' : 150,\n",
    "    'lr' : 1e-4,\n",
    "    'weight_decay' : 1e-2,\n",
    "    'step_size' : 5,\n",
    "    'gamma' : 1,\n",
    "    'num_classes' : 2,\n",
    "    'model_type' : 'CNN'\n",
    "  }"
   ]
  },
  {
   "cell_type": "code",
   "execution_count": 11,
   "metadata": {},
   "outputs": [
    {
     "name": "stderr",
     "output_type": "stream",
     "text": [
      "wandb: Using wandb-core as the SDK backend. Please refer to https://wandb.me/wandb-core for more information.\n",
      "wandb: Currently logged in as: bogachevv. Use `wandb login --relogin` to force relogin\n"
     ]
    },
    {
     "data": {
      "application/vnd.jupyter.widget-view+json": {
       "model_id": "146a52beb9554a4faa648ff9f8eaa4a7",
       "version_major": 2,
       "version_minor": 0
      },
      "text/plain": [
       "VBox(children=(Label(value='Waiting for wandb.init()...\\r'), FloatProgress(value=0.011111111111111112, max=1.0…"
      ]
     },
     "metadata": {},
     "output_type": "display_data"
    },
    {
     "data": {
      "text/html": [
       "Tracking run with wandb version 0.18.2"
      ],
      "text/plain": [
       "<IPython.core.display.HTML object>"
      ]
     },
     "metadata": {},
     "output_type": "display_data"
    },
    {
     "data": {
      "text/html": [
       "Run data is saved locally in <code>c:\\Users\\Vladimir\\PycharmProjects\\EEGPatternRecognition\\notebooks\\wandb\\run-20241008_233027-0hzebsxj</code>"
      ],
      "text/plain": [
       "<IPython.core.display.HTML object>"
      ]
     },
     "metadata": {},
     "output_type": "display_data"
    },
    {
     "data": {
      "text/html": [
       "Syncing run <strong><a href='https://wandb.ai/bogachevv/EEGPatternRecognition/runs/0hzebsxj' target=\"_blank\">sym-random-acyclic-g0.00100-sd</a></strong> to <a href='https://wandb.ai/bogachevv/EEGPatternRecognition' target=\"_blank\">Weights & Biases</a> (<a href='https://wandb.me/run' target=\"_blank\">docs</a>)<br/>"
      ],
      "text/plain": [
       "<IPython.core.display.HTML object>"
      ]
     },
     "metadata": {},
     "output_type": "display_data"
    },
    {
     "data": {
      "text/html": [
       " View project at <a href='https://wandb.ai/bogachevv/EEGPatternRecognition' target=\"_blank\">https://wandb.ai/bogachevv/EEGPatternRecognition</a>"
      ],
      "text/plain": [
       "<IPython.core.display.HTML object>"
      ]
     },
     "metadata": {},
     "output_type": "display_data"
    },
    {
     "data": {
      "text/html": [
       " View run at <a href='https://wandb.ai/bogachevv/EEGPatternRecognition/runs/0hzebsxj' target=\"_blank\">https://wandb.ai/bogachevv/EEGPatternRecognition/runs/0hzebsxj</a>"
      ],
      "text/plain": [
       "<IPython.core.display.HTML object>"
      ]
     },
     "metadata": {},
     "output_type": "display_data"
    },
    {
     "data": {
      "application/vnd.jupyter.widget-view+json": {
       "model_id": "62c00190c57d4cfb9e3251da4e5ab1da",
       "version_major": 2,
       "version_minor": 0
      },
      "text/plain": [
       "  0%|          | 0/500 [00:00<?, ?it/s]"
      ]
     },
     "metadata": {},
     "output_type": "display_data"
    },
    {
     "data": {
      "application/vnd.jupyter.widget-view+json": {
       "model_id": "f0d4d4c655634810b445eb27e4f223cf",
       "version_major": 2,
       "version_minor": 0
      },
      "text/plain": [
       "VBox(children=(Label(value='0.003 MB of 0.003 MB uploaded\\r'), FloatProgress(value=1.0, max=1.0)))"
      ]
     },
     "metadata": {},
     "output_type": "display_data"
    },
    {
     "data": {
      "text/html": [
       "<style>\n",
       "    table.wandb td:nth-child(1) { padding: 0 10px; text-align: left ; width: auto;} td:nth-child(2) {text-align: left ; width: 100%}\n",
       "    .wandb-row { display: flex; flex-direction: row; flex-wrap: wrap; justify-content: flex-start; width: 100% }\n",
       "    .wandb-col { display: flex; flex-direction: column; flex-basis: 100%; flex: 1; padding: 10px; }\n",
       "    </style>\n",
       "<div class=\"wandb-row\"><div class=\"wandb-col\"><h3>Run history:</h3><br/><table class=\"wandb\"><tr><td>train/A_grad</td><td>▁▂▂▁▂▂▂▂▂▂▃▂▂▁▂▃▃▃▂▂▃▂▂▃▃█▂▂▂▃▂▅▃▂▄▃▂▂▂▂</td></tr><tr><td>train/epoch_acc</td><td>▁▄▅▅▅▆▆▆▆▆▆▆▇▇▇▇▇▇▇▇▇▇▇▇▇▇▇▇▇▇▇█████████</td></tr><tr><td>train/epoch_bc</td><td>▁▄▅▆▆▆▆▆▆▆▆▆▇▇▇▇▇▇▇▇▇▇▇▇▇▇▇▇▇▇▇▇▇▇▇█████</td></tr><tr><td>train/epoch_f1</td><td>▁▅▅▅▅▅▆▆▆▆▆▇▇▇▇▇▇▇▇▇▇▇▇▇▇▇▇▇▇▇██████████</td></tr><tr><td>train/epoch_ones</td><td>▁▂▁▄▅▅▅▅▆▅▅▅▅▅▅▅▄▅▅▄▆▅▇▆▅█▆▆▆▆▆▆▆▇▇▆▇▇▇▆</td></tr><tr><td>train/epoch_precision</td><td>▁▅▅▅▅▆▆▆▆▆▆▇▇▇▇▇▇▇▇▇▇▇▇█▇▇████▇█████████</td></tr><tr><td>train/epoch_recall</td><td>▁▄▆▆▆▆▇▆▆▆▇▇▇▇▇▇▇▇▇▇▇▇▇▇▇▇▇▇█▇▇▇█▇▇█████</td></tr><tr><td>train/loss</td><td>██▅▅▄▄▄▃▃▃▃▃▃▃▃▃▃▃▂▂▂▂▂▂▂▂▂▂▂▂▁▁▁▁▁▁▁▁▁▁</td></tr><tr><td>train/max_acc</td><td>▁▂▃▃▃▄▄▄▄▄▅▅▅▅▅▅▅▆▆▆▆▆▆▆▆▇▇▇▇▇▇▇▇███████</td></tr><tr><td>train/min_acc</td><td>▁▁▂▅▆▆▆▆▆▇▇▇▇▇▇▇▇▇▇▇▇▇▇▇▇▇▇▇████████████</td></tr><tr><td>val/epoch_acc</td><td>▁▅▆▆▇▇▇▇▇█▇▇▇▇▇▇▇█▇█▇█▇▇█▇▇▇▇▇▇█▇▇▇▇▇▇█▇</td></tr><tr><td>val/epoch_bc</td><td>▁▅▇█████████████▇▇▇▇▇▇▇▇▇▇▇▇▇▇▇▇▇▆▆▆▇▆▆▆</td></tr><tr><td>val/epoch_f1</td><td>▁▆████████▇▇▇▇▇▇▇▇▆▆▆▆▆▆▆▅▅▅▅▅▅▅▅▄▅▄▅▄▄▅</td></tr><tr><td>val/epoch_ones</td><td>█▅▅▄▄▄▄▄▄▄▃▃▃▃▃▂▂▂▂▃▂▃▂▂▁▁▂▁▁▂▂▁▂▂▂▂▂▁▂▃</td></tr><tr><td>val/epoch_precision</td><td>▁▅▇████████▇▇▇▇▇▇▇▆▆▆▆▆▆▅▆▅▅▆▅▅▅▅▄▅▅▅▅▄▅</td></tr><tr><td>val/epoch_recall</td><td>▁▁▁▄▇███▇▇▇▇▇▇▇▇▆▆▆▆▆▆▆▆▅▅▆▅▅▅▆▅▅▄▄▄▅▅▅▄</td></tr><tr><td>val/loss</td><td>█▆▅▂▂▂▂▂▁▂▁▁▁▁▁▁▁▁▁▁▂▂▁▂▁▁▂▂▁▁▁▁▂▂▂▃▃▃▂▃</td></tr><tr><td>val/max_acc</td><td>▁▇▆▆▇▆▇▆▇▇▇▇██▇▇██▇▇█▇▆▇▇▇▆▇▆▇▇▆▇▆▇▆▆▅▇▆</td></tr><tr><td>val/min_acc</td><td>▁▂▃▇▇▇▇█▇██████████▇█▇██▇▇██▇█▇▇▇▇▇▇▆▆▇▆</td></tr></table><br/></div><div class=\"wandb-col\"><h3>Run summary:</h3><br/><table class=\"wandb\"><tr><td>train/A_grad</td><td>0.12687</td></tr><tr><td>train/epoch_acc</td><td>0.71659</td></tr><tr><td>train/epoch_bc</td><td>0.71659</td></tr><tr><td>train/epoch_f1</td><td>0.71788</td></tr><tr><td>train/epoch_ones</td><td>536.125</td></tr><tr><td>train/epoch_precision</td><td>0.71462</td></tr><tr><td>train/epoch_recall</td><td>0.72118</td></tr><tr><td>train/loss</td><td>0.19242</td></tr><tr><td>train/max_acc</td><td>0.72212</td></tr><tr><td>train/min_acc</td><td>0.71106</td></tr><tr><td>val/epoch_acc</td><td>0.64378</td></tr><tr><td>val/epoch_bc</td><td>0.61053</td></tr><tr><td>val/epoch_f1</td><td>0.34411</td></tr><tr><td>val/epoch_ones</td><td>398.58824</td></tr><tr><td>val/epoch_precision</td><td>0.24823</td></tr><tr><td>val/epoch_recall</td><td>0.56067</td></tr><tr><td>val/loss</td><td>0.22635</td></tr><tr><td>val/max_acc</td><td>0.65077</td></tr><tr><td>val/min_acc</td><td>0.63678</td></tr></table><br/></div></div>"
      ],
      "text/plain": [
       "<IPython.core.display.HTML object>"
      ]
     },
     "metadata": {},
     "output_type": "display_data"
    },
    {
     "data": {
      "text/html": [
       " View run <strong style=\"color:#cdcd00\">sym-random-acyclic-g0.00100-sd</strong> at: <a href='https://wandb.ai/bogachevv/EEGPatternRecognition/runs/0hzebsxj' target=\"_blank\">https://wandb.ai/bogachevv/EEGPatternRecognition/runs/0hzebsxj</a><br/> View project at: <a href='https://wandb.ai/bogachevv/EEGPatternRecognition' target=\"_blank\">https://wandb.ai/bogachevv/EEGPatternRecognition</a><br/>Synced 5 W&B file(s), 0 media file(s), 3 artifact file(s) and 0 other file(s)"
      ],
      "text/plain": [
       "<IPython.core.display.HTML object>"
      ]
     },
     "metadata": {},
     "output_type": "display_data"
    },
    {
     "data": {
      "text/html": [
       "Find logs at: <code>.\\wandb\\run-20241008_233027-0hzebsxj\\logs</code>"
      ],
      "text/plain": [
       "<IPython.core.display.HTML object>"
      ]
     },
     "metadata": {},
     "output_type": "display_data"
    },
    {
     "data": {
      "application/vnd.jupyter.widget-view+json": {
       "model_id": "10fe219540bb46dfb06d0b61a5e6fb63",
       "version_major": 2,
       "version_minor": 0
      },
      "text/plain": [
       "VBox(children=(Label(value='Waiting for wandb.init()...\\r'), FloatProgress(value=0.011111111111111112, max=1.0…"
      ]
     },
     "metadata": {},
     "output_type": "display_data"
    },
    {
     "data": {
      "text/html": [
       "Tracking run with wandb version 0.18.2"
      ],
      "text/plain": [
       "<IPython.core.display.HTML object>"
      ]
     },
     "metadata": {},
     "output_type": "display_data"
    },
    {
     "data": {
      "text/html": [
       "Run data is saved locally in <code>c:\\Users\\Vladimir\\PycharmProjects\\EEGPatternRecognition\\notebooks\\wandb\\run-20241008_234520-9arlgnzi</code>"
      ],
      "text/plain": [
       "<IPython.core.display.HTML object>"
      ]
     },
     "metadata": {},
     "output_type": "display_data"
    },
    {
     "data": {
      "text/html": [
       "Syncing run <strong><a href='https://wandb.ai/bogachevv/EEGPatternRecognition/runs/9arlgnzi' target=\"_blank\">sym-random-acyclic-g0.01000-sd</a></strong> to <a href='https://wandb.ai/bogachevv/EEGPatternRecognition' target=\"_blank\">Weights & Biases</a> (<a href='https://wandb.me/run' target=\"_blank\">docs</a>)<br/>"
      ],
      "text/plain": [
       "<IPython.core.display.HTML object>"
      ]
     },
     "metadata": {},
     "output_type": "display_data"
    },
    {
     "data": {
      "text/html": [
       " View project at <a href='https://wandb.ai/bogachevv/EEGPatternRecognition' target=\"_blank\">https://wandb.ai/bogachevv/EEGPatternRecognition</a>"
      ],
      "text/plain": [
       "<IPython.core.display.HTML object>"
      ]
     },
     "metadata": {},
     "output_type": "display_data"
    },
    {
     "data": {
      "text/html": [
       " View run at <a href='https://wandb.ai/bogachevv/EEGPatternRecognition/runs/9arlgnzi' target=\"_blank\">https://wandb.ai/bogachevv/EEGPatternRecognition/runs/9arlgnzi</a>"
      ],
      "text/plain": [
       "<IPython.core.display.HTML object>"
      ]
     },
     "metadata": {},
     "output_type": "display_data"
    },
    {
     "data": {
      "application/vnd.jupyter.widget-view+json": {
       "model_id": "de1a45b1baca4e33a6ee7327b39877e6",
       "version_major": 2,
       "version_minor": 0
      },
      "text/plain": [
       "  0%|          | 0/500 [00:00<?, ?it/s]"
      ]
     },
     "metadata": {},
     "output_type": "display_data"
    },
    {
     "data": {
      "application/vnd.jupyter.widget-view+json": {
       "model_id": "74d1660547c24d409431d4f680ecabe5",
       "version_major": 2,
       "version_minor": 0
      },
      "text/plain": [
       "VBox(children=(Label(value='0.003 MB of 0.003 MB uploaded\\r'), FloatProgress(value=1.0, max=1.0)))"
      ]
     },
     "metadata": {},
     "output_type": "display_data"
    },
    {
     "data": {
      "text/html": [
       "<style>\n",
       "    table.wandb td:nth-child(1) { padding: 0 10px; text-align: left ; width: auto;} td:nth-child(2) {text-align: left ; width: 100%}\n",
       "    .wandb-row { display: flex; flex-direction: row; flex-wrap: wrap; justify-content: flex-start; width: 100% }\n",
       "    .wandb-col { display: flex; flex-direction: column; flex-basis: 100%; flex: 1; padding: 10px; }\n",
       "    </style>\n",
       "<div class=\"wandb-row\"><div class=\"wandb-col\"><h3>Run history:</h3><br/><table class=\"wandb\"><tr><td>train/A_grad</td><td>▁▃▅▆▅▄▃▃▄▃▆▄▂▄▃▄▂▅▄▆▅▆▆▆▆▄▃▃▅▃▄▄▃▃▄▄█▅▅▄</td></tr><tr><td>train/epoch_acc</td><td>▁▃▄▆▆▆▆▆▆▆▆▇▇▇▇▇▇▇▇▇▇▇▇▇▇▇▇▇▇▇██████████</td></tr><tr><td>train/epoch_bc</td><td>▁▂▅▆▆▆▆▆▆▆▆▆▇▇▇▇▇▇▇▇▇▇▇▇▇▇▇▇█▇██████████</td></tr><tr><td>train/epoch_f1</td><td>▁▁▅▆▆▆▆▆▆▆▆▆▆▆▆▇▇▇▇▇▇▇▇▇▇▇▇▇▇▇▇█████████</td></tr><tr><td>train/epoch_ones</td><td>▁▂▃▅▅▅▅▆▅▆▅▅▆▅▅▅▅▅▅▆▅▆▇▆▆▆▆▆▆▆▅▆▆▆▆▆▇▇█▇</td></tr><tr><td>train/epoch_precision</td><td>▁▂▅▅▅▆▆▆▆▆▆▆▆▆▇▇▇▇▇▇▇▇▇▇▇▇▇██▇▇█▇███████</td></tr><tr><td>train/epoch_recall</td><td>▁▁▂▁▃▄▄▃▃▄▄▄▅▄▄▅▅▆▆▅▆▅▅▆▅▆▆▇▆▇▇▇▇▆▇▇▇▇▇█</td></tr><tr><td>train/loss</td><td>█▇▅▅▄▄▄▄▄▄▄▃▃▃▃▃▃▃▃▃▃▃▃▂▂▂▂▂▂▂▂▁▁▁▁▁▁▁▁▁</td></tr><tr><td>train/max_acc</td><td>▁▃▄▅▆▆▆▇▇▇▇▇▇▇▇▇▇▇▇▇▇▇▇▇▇▇██████████████</td></tr><tr><td>train/min_acc</td><td>▁▁▁▅▅▆▆▆▆▆▆▆▇▇▇▇▇▇▇▇▇▇▇▇▇▇▇▇▇▇▇█▇███████</td></tr><tr><td>val/epoch_acc</td><td>▁▃▇▇▇▇██████████████████▇█▇██████▇▇█▇█▇▇</td></tr><tr><td>val/epoch_bc</td><td>▁▅▇███████▇▇▇▇▇▇▇▇▇▇▇▇▇▇▇▇▇▇▆▆▆▆▆▆▆▆▆▆▆▆</td></tr><tr><td>val/epoch_f1</td><td>▁▂▅▆▆█████████▇▇▇▇▇▇▇▇▇▇▇▇▇▇▇▇▇▇▆▆▇▆▆▆▆▆</td></tr><tr><td>val/epoch_ones</td><td>█▆▆▅▅▄▄▃▄▄▄▄▃▃▃▃▃▂▂▂▃▃▂▃▂▃▂▃▂▁▂▃▂▂▃▂▂▂▂▄</td></tr><tr><td>val/epoch_precision</td><td>▃▅▆▆▆█▇▇███▇▇▇▇▆▆▆▆▅▆▅▅▅▅▄▃▄▃▃▂▃▂▂▂▁▂▂▁▁</td></tr><tr><td>val/epoch_recall</td><td>▄▇███▇▆▆▆▆▅▅▄▃▃▃▄▃▃▄▄▃▃▄▃▄▃▄▃▂▃▂▄▃▂▁▁▃▃▃</td></tr><tr><td>val/loss</td><td>█▇▆▃▂▂▂▂▂▂▂▂▂▂▂▂▂▂▂▁▂▂▂▂▂▂▂▂▂▂▁▂▂▁▂▂▂▂▂▃</td></tr><tr><td>val/max_acc</td><td>▁▄▆▇▇▇███████████████████▇██████████▇█▇▇</td></tr><tr><td>val/min_acc</td><td>▁▇▇▇▇▇▇█▇▇▇██▇████▇██▇█▇███▇█▇█▇▇▇█▇▇▇█▇</td></tr></table><br/></div><div class=\"wandb-col\"><h3>Run summary:</h3><br/><table class=\"wandb\"><tr><td>train/A_grad</td><td>0.16996</td></tr><tr><td>train/epoch_acc</td><td>0.71506</td></tr><tr><td>train/epoch_bc</td><td>0.71506</td></tr><tr><td>train/epoch_f1</td><td>0.71595</td></tr><tr><td>train/epoch_ones</td><td>534.58333</td></tr><tr><td>train/epoch_precision</td><td>0.71372</td></tr><tr><td>train/epoch_recall</td><td>0.7182</td></tr><tr><td>train/loss</td><td>0.19289</td></tr><tr><td>train/max_acc</td><td>0.7206</td></tr><tr><td>train/min_acc</td><td>0.70952</td></tr><tr><td>val/epoch_acc</td><td>0.64306</td></tr><tr><td>val/epoch_bc</td><td>0.6081</td></tr><tr><td>val/epoch_f1</td><td>0.34163</td></tr><tr><td>val/epoch_ones</td><td>397.58824</td></tr><tr><td>val/epoch_precision</td><td>0.24663</td></tr><tr><td>val/epoch_recall</td><td>0.55567</td></tr><tr><td>val/loss</td><td>0.22603</td></tr><tr><td>val/max_acc</td><td>0.65005</td></tr><tr><td>val/min_acc</td><td>0.63606</td></tr></table><br/></div></div>"
      ],
      "text/plain": [
       "<IPython.core.display.HTML object>"
      ]
     },
     "metadata": {},
     "output_type": "display_data"
    },
    {
     "data": {
      "text/html": [
       " View run <strong style=\"color:#cdcd00\">sym-random-acyclic-g0.01000-sd</strong> at: <a href='https://wandb.ai/bogachevv/EEGPatternRecognition/runs/9arlgnzi' target=\"_blank\">https://wandb.ai/bogachevv/EEGPatternRecognition/runs/9arlgnzi</a><br/> View project at: <a href='https://wandb.ai/bogachevv/EEGPatternRecognition' target=\"_blank\">https://wandb.ai/bogachevv/EEGPatternRecognition</a><br/>Synced 5 W&B file(s), 0 media file(s), 2 artifact file(s) and 0 other file(s)"
      ],
      "text/plain": [
       "<IPython.core.display.HTML object>"
      ]
     },
     "metadata": {},
     "output_type": "display_data"
    },
    {
     "data": {
      "text/html": [
       "Find logs at: <code>.\\wandb\\run-20241008_234520-9arlgnzi\\logs</code>"
      ],
      "text/plain": [
       "<IPython.core.display.HTML object>"
      ]
     },
     "metadata": {},
     "output_type": "display_data"
    },
    {
     "data": {
      "text/html": [
       "Tracking run with wandb version 0.18.2"
      ],
      "text/plain": [
       "<IPython.core.display.HTML object>"
      ]
     },
     "metadata": {},
     "output_type": "display_data"
    },
    {
     "data": {
      "text/html": [
       "Run data is saved locally in <code>c:\\Users\\Vladimir\\PycharmProjects\\EEGPatternRecognition\\notebooks\\wandb\\run-20241009_000026-ulqf1ylu</code>"
      ],
      "text/plain": [
       "<IPython.core.display.HTML object>"
      ]
     },
     "metadata": {},
     "output_type": "display_data"
    },
    {
     "data": {
      "text/html": [
       "Syncing run <strong><a href='https://wandb.ai/bogachevv/EEGPatternRecognition/runs/ulqf1ylu' target=\"_blank\">sym-random-acyclic-g0.10000-sd</a></strong> to <a href='https://wandb.ai/bogachevv/EEGPatternRecognition' target=\"_blank\">Weights & Biases</a> (<a href='https://wandb.me/run' target=\"_blank\">docs</a>)<br/>"
      ],
      "text/plain": [
       "<IPython.core.display.HTML object>"
      ]
     },
     "metadata": {},
     "output_type": "display_data"
    },
    {
     "data": {
      "text/html": [
       " View project at <a href='https://wandb.ai/bogachevv/EEGPatternRecognition' target=\"_blank\">https://wandb.ai/bogachevv/EEGPatternRecognition</a>"
      ],
      "text/plain": [
       "<IPython.core.display.HTML object>"
      ]
     },
     "metadata": {},
     "output_type": "display_data"
    },
    {
     "data": {
      "text/html": [
       " View run at <a href='https://wandb.ai/bogachevv/EEGPatternRecognition/runs/ulqf1ylu' target=\"_blank\">https://wandb.ai/bogachevv/EEGPatternRecognition/runs/ulqf1ylu</a>"
      ],
      "text/plain": [
       "<IPython.core.display.HTML object>"
      ]
     },
     "metadata": {},
     "output_type": "display_data"
    },
    {
     "data": {
      "application/vnd.jupyter.widget-view+json": {
       "model_id": "f5969ef5cdc7495487fac19e98ebd1cf",
       "version_major": 2,
       "version_minor": 0
      },
      "text/plain": [
       "  0%|          | 0/500 [00:00<?, ?it/s]"
      ]
     },
     "metadata": {},
     "output_type": "display_data"
    },
    {
     "data": {
      "application/vnd.jupyter.widget-view+json": {
       "model_id": "4987a6d0c2c24cf697b13213806b8f09",
       "version_major": 2,
       "version_minor": 0
      },
      "text/plain": [
       "VBox(children=(Label(value='0.003 MB of 0.003 MB uploaded\\r'), FloatProgress(value=1.0, max=1.0)))"
      ]
     },
     "metadata": {},
     "output_type": "display_data"
    },
    {
     "data": {
      "text/html": [
       "<style>\n",
       "    table.wandb td:nth-child(1) { padding: 0 10px; text-align: left ; width: auto;} td:nth-child(2) {text-align: left ; width: 100%}\n",
       "    .wandb-row { display: flex; flex-direction: row; flex-wrap: wrap; justify-content: flex-start; width: 100% }\n",
       "    .wandb-col { display: flex; flex-direction: column; flex-basis: 100%; flex: 1; padding: 10px; }\n",
       "    </style>\n",
       "<div class=\"wandb-row\"><div class=\"wandb-col\"><h3>Run history:</h3><br/><table class=\"wandb\"><tr><td>train/A_grad</td><td>▁▁▂▃▄▃▃▃▄▃▂▃▅▄▄▇▄▄▃▇▃▃▂▄▃▆▃█▃▃▂▇▄▄█▄▆▅▅▇</td></tr><tr><td>train/epoch_acc</td><td>▁▄▄▄▅▆▆▆▆▆▆▆▆▇▇▇▇▇▇▇▇▇▇▇▇▇▇▇▇▇▇▇█▇██████</td></tr><tr><td>train/epoch_bc</td><td>▁▃▄▆▆▆▆▆▆▇▇▇▇▇▇▇▇▇▇▇▇▇▇▇▇███████████████</td></tr><tr><td>train/epoch_f1</td><td>▁▄▅▆▆▆▆▆▆▆▆▆▆▆▆▇▆▇▇▇▇▇▇▇▇▇▇▇▇▇▇▇▇███████</td></tr><tr><td>train/epoch_ones</td><td>▁▂▄▄▅▄▅▄▅▅▅▄▄▄▅▅▅▄▄▆▄▅▄▆▅▆▅▆▆▅▆▆▆▇▆▅▇█▇▆</td></tr><tr><td>train/epoch_precision</td><td>▁▃▄▅▅▅▅▆▆▆▆▆▆▆▆▆▆▆▆▆▇▇▇▇▇▇▇▇▇▇▇█▇▇▇▇▇███</td></tr><tr><td>train/epoch_recall</td><td>▁▅▅▆▆▆▆▆▆▆▇▆▇▇▇▇▇▇▇▇▇▇▇▇▇▇▇█▇▇▇█████████</td></tr><tr><td>train/loss</td><td>██▄▄▄▄▃▃▃▃▃▃▃▃▃▂▂▂▂▂▂▂▂▂▂▂▂▂▂▂▁▁▁▁▁▁▁▁▁▁</td></tr><tr><td>train/max_acc</td><td>▁▂▃▃▃▃▄▄▄▄▅▅▅▅▅▅▅▅▅▆▆▆▆▆▆▇▇▇▇▇▇▇▇███████</td></tr><tr><td>train/min_acc</td><td>▁▅▆▆▆▆▆▆▆▆▆▆▆▇▇▇▇▇▇▇▇▇▇▇▇▇▇▇▇▇▇█████████</td></tr><tr><td>val/epoch_acc</td><td>▂▂▂▄▇▃▅▆▆▆▇▇▆▇▇▅█▇▅▅▅▇▃▅▆█▃▆▅▅▄▂▆▅▅▅▅▁▂▆</td></tr><tr><td>val/epoch_bc</td><td>▁▆▆████████████▇▇▇▇▇▇▇▇▇▇▇▆▇▆▆▇▆▆▆▆▇▆▆▆▆</td></tr><tr><td>val/epoch_f1</td><td>▁▇██████▇▇▇▇▇▇▇▇▇▇▇▇▆▆▆▆▆▆▆▆▆▆▆▅▆▅▅▅▅▅▅▅</td></tr><tr><td>val/epoch_ones</td><td>█▆▆▅▅▄▅▅▃▄▃▃▃▄▃▃▄▃▃▃▄▃▄▄▃▂▃▂▃▂▃▃▂▃▂▁▂▃▃▁</td></tr><tr><td>val/epoch_precision</td><td>▃▃▅▆▇▇▇██▇▇▇▇▆▇▅▆▆▅▅▄▄▅▄▄▃▃▃▃▃▂▃▃▂▂▂▂▂▁▁</td></tr><tr><td>val/epoch_recall</td><td>▁▄█████▇▇▇▇▇▇▇▇▇▇▇▆▅▅▆▅▆▆▅▅▅▆▄▅▄▅▆▅▅▄▄▄▄</td></tr><tr><td>val/loss</td><td>██▃▃▂▂▁▁▁▂▁▂▁▂▁▂▂▂▁▂▂▁▁▂▁▁▁▁▁▂▂▂▂▁▂▁▂▃▃▂</td></tr><tr><td>val/max_acc</td><td>▁▅▆▆▇▇▇▇▇█▇▇██████▇▇█▇▇█▇██▇▇█▇█▇▇▇▇█▇▇▇</td></tr><tr><td>val/min_acc</td><td>▁▂▅▅▆▇█▇▇▇▇▇▇▇▇█████▇▇██▇▇▇█▇▇▇▇██▇▇▇█▇▇</td></tr></table><br/></div><div class=\"wandb-col\"><h3>Run summary:</h3><br/><table class=\"wandb\"><tr><td>train/A_grad</td><td>0.19838</td></tr><tr><td>train/epoch_acc</td><td>0.71549</td></tr><tr><td>train/epoch_bc</td><td>0.71549</td></tr><tr><td>train/epoch_f1</td><td>0.71697</td></tr><tr><td>train/epoch_ones</td><td>536.79167</td></tr><tr><td>train/epoch_precision</td><td>0.71327</td></tr><tr><td>train/epoch_recall</td><td>0.72071</td></tr><tr><td>train/loss</td><td>0.19325</td></tr><tr><td>train/max_acc</td><td>0.72103</td></tr><tr><td>train/min_acc</td><td>0.70995</td></tr><tr><td>val/epoch_acc</td><td>0.64261</td></tr><tr><td>val/epoch_bc</td><td>0.6089</td></tr><tr><td>val/epoch_f1</td><td>0.34243</td></tr><tr><td>val/epoch_ones</td><td>399</td></tr><tr><td>val/epoch_precision</td><td>0.24694</td></tr><tr><td>val/epoch_recall</td><td>0.55833</td></tr><tr><td>val/loss</td><td>0.2265</td></tr><tr><td>val/max_acc</td><td>0.64961</td></tr><tr><td>val/min_acc</td><td>0.63561</td></tr></table><br/></div></div>"
      ],
      "text/plain": [
       "<IPython.core.display.HTML object>"
      ]
     },
     "metadata": {},
     "output_type": "display_data"
    },
    {
     "data": {
      "text/html": [
       " View run <strong style=\"color:#cdcd00\">sym-random-acyclic-g0.10000-sd</strong> at: <a href='https://wandb.ai/bogachevv/EEGPatternRecognition/runs/ulqf1ylu' target=\"_blank\">https://wandb.ai/bogachevv/EEGPatternRecognition/runs/ulqf1ylu</a><br/> View project at: <a href='https://wandb.ai/bogachevv/EEGPatternRecognition' target=\"_blank\">https://wandb.ai/bogachevv/EEGPatternRecognition</a><br/>Synced 5 W&B file(s), 0 media file(s), 2 artifact file(s) and 0 other file(s)"
      ],
      "text/plain": [
       "<IPython.core.display.HTML object>"
      ]
     },
     "metadata": {},
     "output_type": "display_data"
    },
    {
     "data": {
      "text/html": [
       "Find logs at: <code>.\\wandb\\run-20241009_000026-ulqf1ylu\\logs</code>"
      ],
      "text/plain": [
       "<IPython.core.display.HTML object>"
      ]
     },
     "metadata": {},
     "output_type": "display_data"
    },
    {
     "data": {
      "text/html": [
       "Tracking run with wandb version 0.18.2"
      ],
      "text/plain": [
       "<IPython.core.display.HTML object>"
      ]
     },
     "metadata": {},
     "output_type": "display_data"
    },
    {
     "data": {
      "text/html": [
       "Run data is saved locally in <code>c:\\Users\\Vladimir\\PycharmProjects\\EEGPatternRecognition\\notebooks\\wandb\\run-20241009_001439-fefny4qo</code>"
      ],
      "text/plain": [
       "<IPython.core.display.HTML object>"
      ]
     },
     "metadata": {},
     "output_type": "display_data"
    },
    {
     "data": {
      "text/html": [
       "Syncing run <strong><a href='https://wandb.ai/bogachevv/EEGPatternRecognition/runs/fefny4qo' target=\"_blank\">sym-random-acyclic-g1.00000-sd</a></strong> to <a href='https://wandb.ai/bogachevv/EEGPatternRecognition' target=\"_blank\">Weights & Biases</a> (<a href='https://wandb.me/run' target=\"_blank\">docs</a>)<br/>"
      ],
      "text/plain": [
       "<IPython.core.display.HTML object>"
      ]
     },
     "metadata": {},
     "output_type": "display_data"
    },
    {
     "data": {
      "text/html": [
       " View project at <a href='https://wandb.ai/bogachevv/EEGPatternRecognition' target=\"_blank\">https://wandb.ai/bogachevv/EEGPatternRecognition</a>"
      ],
      "text/plain": [
       "<IPython.core.display.HTML object>"
      ]
     },
     "metadata": {},
     "output_type": "display_data"
    },
    {
     "data": {
      "text/html": [
       " View run at <a href='https://wandb.ai/bogachevv/EEGPatternRecognition/runs/fefny4qo' target=\"_blank\">https://wandb.ai/bogachevv/EEGPatternRecognition/runs/fefny4qo</a>"
      ],
      "text/plain": [
       "<IPython.core.display.HTML object>"
      ]
     },
     "metadata": {},
     "output_type": "display_data"
    },
    {
     "data": {
      "application/vnd.jupyter.widget-view+json": {
       "model_id": "5f7dfc1548f241aa9235e439e036f21e",
       "version_major": 2,
       "version_minor": 0
      },
      "text/plain": [
       "  0%|          | 0/500 [00:00<?, ?it/s]"
      ]
     },
     "metadata": {},
     "output_type": "display_data"
    },
    {
     "data": {
      "application/vnd.jupyter.widget-view+json": {
       "model_id": "3f78a767cf11410e842f23727df5f757",
       "version_major": 2,
       "version_minor": 0
      },
      "text/plain": [
       "VBox(children=(Label(value='0.003 MB of 0.003 MB uploaded\\r'), FloatProgress(value=1.0, max=1.0)))"
      ]
     },
     "metadata": {},
     "output_type": "display_data"
    },
    {
     "data": {
      "text/html": [
       "<style>\n",
       "    table.wandb td:nth-child(1) { padding: 0 10px; text-align: left ; width: auto;} td:nth-child(2) {text-align: left ; width: 100%}\n",
       "    .wandb-row { display: flex; flex-direction: row; flex-wrap: wrap; justify-content: flex-start; width: 100% }\n",
       "    .wandb-col { display: flex; flex-direction: column; flex-basis: 100%; flex: 1; padding: 10px; }\n",
       "    </style>\n",
       "<div class=\"wandb-row\"><div class=\"wandb-col\"><h3>Run history:</h3><br/><table class=\"wandb\"><tr><td>train/A_grad</td><td>▁▁▁▂▂▃▅▆▃▃▇█▄▄▅▄▄▃▃▄▅▄▃▅▇▂▄▄▄▃█▆█▃▃▄▃▃▆▄</td></tr><tr><td>train/epoch_acc</td><td>▁▄▅▅▅▅▅▆▆▆▆▆▆▆▆▆▆▇▇▇▇▇▇▇▇▇▇▇▇▇██████████</td></tr><tr><td>train/epoch_bc</td><td>▁▂▂▆▆▆▆▆▆▇▇▇▇▇▇▇▇▇▇▇▇▇▇▇▇▇▇▇▇▇██████████</td></tr><tr><td>train/epoch_f1</td><td>▁▆▆▆▆▆▇▇▇▇▇▇▇▇▇▇▇▇▇▇▇▇▇▇▇▇▇▇█▇██████████</td></tr><tr><td>train/epoch_ones</td><td>▁▃▅▆▅▅▅▆▆▆▅▆▆▅▆▆▆▆▆▆▆▆▆▇▅▆▆▇▇▇█▇▇█▆▇▇▇█▇</td></tr><tr><td>train/epoch_precision</td><td>▁▁▂▃▄▄▅▅▅▅▅▅▅▆▅▆▆▆▆▆▆▆▆▆▆▇▆▆▇▇▇▇▇▇▇▇▇█▇▇</td></tr><tr><td>train/epoch_recall</td><td>▁▂▃▆▆▇▇▇▇▇▇▇▇▇▇▇▇▇▇▇▇▇▇█▇██▇████████████</td></tr><tr><td>train/loss</td><td>█▆▄▄▄▃▃▃▃▃▃▃▃▃▃▂▂▂▂▂▂▂▂▂▂▂▂▂▂▁▁▁▁▁▁▁▁▁▁▁</td></tr><tr><td>train/max_acc</td><td>▁▅▅▆▆▆▆▆▆▆▆▇▇▇▇▇▇▇▇▇▇▇▇▇▇▇██████████████</td></tr><tr><td>train/min_acc</td><td>▁▅▅▆▆▆▆▆▇▇▇▇▇▇▇▇▇▇▇▇▇▇▇▇▇▇▇█████████████</td></tr><tr><td>val/epoch_acc</td><td>▁▅▆▇▇▇▇▇█▇████████▇██▇▇▇██▇▇▇█▇███████▇█</td></tr><tr><td>val/epoch_bc</td><td>▁▆███████▇▇▇▇▇▇▇▇▇▇▇▇▇▇▇▇▇▇▇▇▇▇▇▆▆▇▆▇▆▆▆</td></tr><tr><td>val/epoch_f1</td><td>▄▅████▇▇▇▇▆▆▆▆▆▆▆▅▆▆▅▅▅▄▄▃▂▂▂▃▃▂▂▂▂▂▁▂▂▁</td></tr><tr><td>val/epoch_ones</td><td>█▆▅▅▅▄▃▄▄▃▃▃▂▃▂▂▂▂▃▂▂▂▂▃▂▂▂▂▃▂▂▂▁▂▁▂▂▁▂▁</td></tr><tr><td>val/epoch_precision</td><td>▁▂▄▇▇████▇▇█▇▇▇▇▇▇▇▇▇▇▇▆▇▆▆▆▆▆▆▆▆▆▆▆▆▆▆▆</td></tr><tr><td>val/epoch_recall</td><td>▁▂▃████▇▇▇▇▇▇▇▇▆▆▆▆▆▅▆▆▆▆▅▄▆▅▅▅▅▅▅▅▄▅▅▅▅</td></tr><tr><td>val/loss</td><td>█▇▃▂▂▂▂▁▂▂▁▁▂▁▁▁▁▁▁▂▁▂▂▁▂▁▂▂▂▂▁▂▁▁▂▁▃▂▂▂</td></tr><tr><td>val/max_acc</td><td>▁▄▅▆▅▆▅▅▆▆▇▆▆▇▇▇▆█▇▇▆██▇▇▅▅▅▅▇█▆▆▅▇▇▇▅█▇</td></tr><tr><td>val/min_acc</td><td>▁▃▆▆▆▇▇▇▇▇▇▇██▇▇█▇█▇██▇▇▇▇▇█▇█▇▇█▇▇▇▇▇▇█</td></tr></table><br/></div><div class=\"wandb-col\"><h3>Run summary:</h3><br/><table class=\"wandb\"><tr><td>train/A_grad</td><td>0.14062</td></tr><tr><td>train/epoch_acc</td><td>0.71298</td></tr><tr><td>train/epoch_bc</td><td>0.71298</td></tr><tr><td>train/epoch_f1</td><td>0.71471</td></tr><tr><td>train/epoch_ones</td><td>537.70833</td></tr><tr><td>train/epoch_precision</td><td>0.71042</td></tr><tr><td>train/epoch_recall</td><td>0.71906</td></tr><tr><td>train/loss</td><td>0.19421</td></tr><tr><td>train/max_acc</td><td>0.71853</td></tr><tr><td>train/min_acc</td><td>0.70743</td></tr><tr><td>val/epoch_acc</td><td>0.64661</td></tr><tr><td>val/epoch_bc</td><td>0.61223</td></tr><tr><td>val/epoch_f1</td><td>0.34591</td></tr><tr><td>val/epoch_ones</td><td>395.58824</td></tr><tr><td>val/epoch_precision</td><td>0.25011</td></tr><tr><td>val/epoch_recall</td><td>0.56067</td></tr><tr><td>val/loss</td><td>0.22577</td></tr><tr><td>val/max_acc</td><td>0.65359</td></tr><tr><td>val/min_acc</td><td>0.63963</td></tr></table><br/></div></div>"
      ],
      "text/plain": [
       "<IPython.core.display.HTML object>"
      ]
     },
     "metadata": {},
     "output_type": "display_data"
    },
    {
     "data": {
      "text/html": [
       " View run <strong style=\"color:#cdcd00\">sym-random-acyclic-g1.00000-sd</strong> at: <a href='https://wandb.ai/bogachevv/EEGPatternRecognition/runs/fefny4qo' target=\"_blank\">https://wandb.ai/bogachevv/EEGPatternRecognition/runs/fefny4qo</a><br/> View project at: <a href='https://wandb.ai/bogachevv/EEGPatternRecognition' target=\"_blank\">https://wandb.ai/bogachevv/EEGPatternRecognition</a><br/>Synced 5 W&B file(s), 0 media file(s), 2 artifact file(s) and 0 other file(s)"
      ],
      "text/plain": [
       "<IPython.core.display.HTML object>"
      ]
     },
     "metadata": {},
     "output_type": "display_data"
    },
    {
     "data": {
      "text/html": [
       "Find logs at: <code>.\\wandb\\run-20241009_001439-fefny4qo\\logs</code>"
      ],
      "text/plain": [
       "<IPython.core.display.HTML object>"
      ]
     },
     "metadata": {},
     "output_type": "display_data"
    },
    {
     "data": {
      "text/html": [
       "Tracking run with wandb version 0.18.2"
      ],
      "text/plain": [
       "<IPython.core.display.HTML object>"
      ]
     },
     "metadata": {},
     "output_type": "display_data"
    },
    {
     "data": {
      "text/html": [
       "Run data is saved locally in <code>c:\\Users\\Vladimir\\PycharmProjects\\EEGPatternRecognition\\notebooks\\wandb\\run-20241009_002856-yw0xssyx</code>"
      ],
      "text/plain": [
       "<IPython.core.display.HTML object>"
      ]
     },
     "metadata": {},
     "output_type": "display_data"
    },
    {
     "data": {
      "text/html": [
       "Syncing run <strong><a href='https://wandb.ai/bogachevv/EEGPatternRecognition/runs/yw0xssyx' target=\"_blank\">sym-random-acyclic-g10.00000-sd</a></strong> to <a href='https://wandb.ai/bogachevv/EEGPatternRecognition' target=\"_blank\">Weights & Biases</a> (<a href='https://wandb.me/run' target=\"_blank\">docs</a>)<br/>"
      ],
      "text/plain": [
       "<IPython.core.display.HTML object>"
      ]
     },
     "metadata": {},
     "output_type": "display_data"
    },
    {
     "data": {
      "text/html": [
       " View project at <a href='https://wandb.ai/bogachevv/EEGPatternRecognition' target=\"_blank\">https://wandb.ai/bogachevv/EEGPatternRecognition</a>"
      ],
      "text/plain": [
       "<IPython.core.display.HTML object>"
      ]
     },
     "metadata": {},
     "output_type": "display_data"
    },
    {
     "data": {
      "text/html": [
       " View run at <a href='https://wandb.ai/bogachevv/EEGPatternRecognition/runs/yw0xssyx' target=\"_blank\">https://wandb.ai/bogachevv/EEGPatternRecognition/runs/yw0xssyx</a>"
      ],
      "text/plain": [
       "<IPython.core.display.HTML object>"
      ]
     },
     "metadata": {},
     "output_type": "display_data"
    },
    {
     "data": {
      "application/vnd.jupyter.widget-view+json": {
       "model_id": "ab30c9f22d7f46c68f210330b368faee",
       "version_major": 2,
       "version_minor": 0
      },
      "text/plain": [
       "  0%|          | 0/500 [00:00<?, ?it/s]"
      ]
     },
     "metadata": {},
     "output_type": "display_data"
    },
    {
     "data": {
      "application/vnd.jupyter.widget-view+json": {
       "model_id": "b8b80e846e27413fbd8249a04ff008af",
       "version_major": 2,
       "version_minor": 0
      },
      "text/plain": [
       "VBox(children=(Label(value='0.003 MB of 0.003 MB uploaded\\r'), FloatProgress(value=1.0, max=1.0)))"
      ]
     },
     "metadata": {},
     "output_type": "display_data"
    },
    {
     "data": {
      "text/html": [
       "<style>\n",
       "    table.wandb td:nth-child(1) { padding: 0 10px; text-align: left ; width: auto;} td:nth-child(2) {text-align: left ; width: 100%}\n",
       "    .wandb-row { display: flex; flex-direction: row; flex-wrap: wrap; justify-content: flex-start; width: 100% }\n",
       "    .wandb-col { display: flex; flex-direction: column; flex-basis: 100%; flex: 1; padding: 10px; }\n",
       "    </style>\n",
       "<div class=\"wandb-row\"><div class=\"wandb-col\"><h3>Run history:</h3><br/><table class=\"wandb\"><tr><td>train/A_grad</td><td>▁▁▃▄▃▃▄▄▄▆▂▃▆▄▆▄█▃▄▄▄▅▇▄▅▃▆▅▃▄▅▅▅▃▅▆▅█▃▄</td></tr><tr><td>train/epoch_acc</td><td>▁▃▅▅▅▆▆▆▆▆▇▇▇▇▇▇▇▇▇▇▇▇▇▇▇▇█▇▇███████████</td></tr><tr><td>train/epoch_bc</td><td>▁▂▂▅▆▆▆▆▆▆▇▇▇▇▇▇▇▇▇▇▇▇▇▇▇▇▇▇▇▇██████████</td></tr><tr><td>train/epoch_f1</td><td>▁▂▂▃▃▄▄▄▅▅▅▅▅▅▅▆▆▆▆▆▆▆▇▆▇▇▇▇▇▇▇▇▇▇▇▇▇███</td></tr><tr><td>train/epoch_ones</td><td>▁▁▅▅▆▅▅▅▆▅▅▄▅▇▅▆▅▇▆▇▅█▆▆▆▇▅▇▇▇▇▆█▇▇▇█▇▆█</td></tr><tr><td>train/epoch_precision</td><td>▁▂▄▅▅▆▆▆▆▆▆▇▇▇▇▇▇▇▇▇▇▇▇▇▇▇▇▇▇▇█▇██▇█████</td></tr><tr><td>train/epoch_recall</td><td>▁▅▆▅▆▆▆▆▆▆▆▇▇▇▇▇▇▇▇▇▇▇▇▇▇▇▇█▇▇▇█████████</td></tr><tr><td>train/loss</td><td>█▆▄▄▄▄▃▃▃▃▃▃▃▃▃▃▂▂▂▂▂▂▂▂▂▂▂▂▂▂▂▂▂▁▁▁▁▁▁▁</td></tr><tr><td>train/max_acc</td><td>▁▂▃▄▆▆▆▆▆▆▆▇▇▇▇▇▇▇▇▇▇▇▇▇▇▇▇▇▇▇██████████</td></tr><tr><td>train/min_acc</td><td>▁▃▃▄▅▅▆▆▆▆▆▆▆▆▆▆▆▆▆▇▇▇▇▇▇▇▇▇▇▇██████████</td></tr><tr><td>val/epoch_acc</td><td>▁▂▃▄▆▇▇▇▇▇▇█████▇▇███▇█▇▇▇▇▇█▇▇█▇▇▇▇▇▇▇▆</td></tr><tr><td>val/epoch_bc</td><td>▁▃▇███████████▇▇▇▇▇▇▇▇▇▇▇▇▇▇▇▇▇▇▇▇▇▇▇▇▇▆</td></tr><tr><td>val/epoch_f1</td><td>▅▆█▇█▇▇█▇▇▇█▇▇█▆▆▆▆▅▅▄▄▄▄▄▄▄▄▃▄▃▃▂▂▂▂▂▂▁</td></tr><tr><td>val/epoch_ones</td><td>█▅▅▅▅▃▃▄▄▃▃▃▂▂▂▂▂▂▃▂▂▂▃▁▂▂▂▂▃▂▁▂▂▂▃▃▂▂▃▂</td></tr><tr><td>val/epoch_precision</td><td>▁▁▅▅▇██████████████████▇▇▇▇▇▇▇▇▇▇▇▇▇▇▇▇▇</td></tr><tr><td>val/epoch_recall</td><td>▃▅▆▇▇█▇██▇▇▆▆▆▆▅▅▅▄▃▄▃▃▃▄▂▃▂▁▄▃▂▃▃▃▁▂▂▃▂</td></tr><tr><td>val/loss</td><td>███▃▂▂▂▂▂▁▂▁▂▁▂▂▂▁▂▂▂▁▂▂▂▁▁▂▃▂▁▂▁▂▂▃▁▃▂▂</td></tr><tr><td>val/max_acc</td><td>▁▃▄▅▅▆▇▇▇▆▇▇▇▇▇▇▇█▇▇▇█▇▇▇▇▇▆▇▇▇▇▇▇▇▆▆▇▆▆</td></tr><tr><td>val/min_acc</td><td>▁▃▃▆▇▇▇▇█████████████▇▇█▇█▇▇██▇▇▇█▇▇▇▇▇▇</td></tr></table><br/></div><div class=\"wandb-col\"><h3>Run summary:</h3><br/><table class=\"wandb\"><tr><td>train/A_grad</td><td>0.12568</td></tr><tr><td>train/epoch_acc</td><td>0.71482</td></tr><tr><td>train/epoch_bc</td><td>0.71482</td></tr><tr><td>train/epoch_f1</td><td>0.71706</td></tr><tr><td>train/epoch_ones</td><td>539.66667</td></tr><tr><td>train/epoch_precision</td><td>0.71147</td></tr><tr><td>train/epoch_recall</td><td>0.72275</td></tr><tr><td>train/loss</td><td>0.19504</td></tr><tr><td>train/max_acc</td><td>0.72037</td></tr><tr><td>train/min_acc</td><td>0.70928</td></tr><tr><td>val/epoch_acc</td><td>0.63972</td></tr><tr><td>val/epoch_bc</td><td>0.60597</td></tr><tr><td>val/epoch_f1</td><td>0.33941</td></tr><tr><td>val/epoch_ones</td><td>401</td></tr><tr><td>val/epoch_precision</td><td>0.24439</td></tr><tr><td>val/epoch_recall</td><td>0.55533</td></tr><tr><td>val/loss</td><td>0.22882</td></tr><tr><td>val/max_acc</td><td>0.64674</td></tr><tr><td>val/min_acc</td><td>0.63271</td></tr></table><br/></div></div>"
      ],
      "text/plain": [
       "<IPython.core.display.HTML object>"
      ]
     },
     "metadata": {},
     "output_type": "display_data"
    },
    {
     "data": {
      "text/html": [
       " View run <strong style=\"color:#cdcd00\">sym-random-acyclic-g10.00000-sd</strong> at: <a href='https://wandb.ai/bogachevv/EEGPatternRecognition/runs/yw0xssyx' target=\"_blank\">https://wandb.ai/bogachevv/EEGPatternRecognition/runs/yw0xssyx</a><br/> View project at: <a href='https://wandb.ai/bogachevv/EEGPatternRecognition' target=\"_blank\">https://wandb.ai/bogachevv/EEGPatternRecognition</a><br/>Synced 5 W&B file(s), 0 media file(s), 2 artifact file(s) and 0 other file(s)"
      ],
      "text/plain": [
       "<IPython.core.display.HTML object>"
      ]
     },
     "metadata": {},
     "output_type": "display_data"
    },
    {
     "data": {
      "text/html": [
       "Find logs at: <code>.\\wandb\\run-20241009_002856-yw0xssyx\\logs</code>"
      ],
      "text/plain": [
       "<IPython.core.display.HTML object>"
      ]
     },
     "metadata": {},
     "output_type": "display_data"
    },
    {
     "data": {
      "text/html": [
       "Tracking run with wandb version 0.18.2"
      ],
      "text/plain": [
       "<IPython.core.display.HTML object>"
      ]
     },
     "metadata": {},
     "output_type": "display_data"
    },
    {
     "data": {
      "text/html": [
       "Run data is saved locally in <code>c:\\Users\\Vladimir\\PycharmProjects\\EEGPatternRecognition\\notebooks\\wandb\\run-20241009_004306-4caa3f6q</code>"
      ],
      "text/plain": [
       "<IPython.core.display.HTML object>"
      ]
     },
     "metadata": {},
     "output_type": "display_data"
    },
    {
     "data": {
      "text/html": [
       "Syncing run <strong><a href='https://wandb.ai/bogachevv/EEGPatternRecognition/runs/4caa3f6q' target=\"_blank\">sym-random-acyclic-g100.00000-sd</a></strong> to <a href='https://wandb.ai/bogachevv/EEGPatternRecognition' target=\"_blank\">Weights & Biases</a> (<a href='https://wandb.me/run' target=\"_blank\">docs</a>)<br/>"
      ],
      "text/plain": [
       "<IPython.core.display.HTML object>"
      ]
     },
     "metadata": {},
     "output_type": "display_data"
    },
    {
     "data": {
      "text/html": [
       " View project at <a href='https://wandb.ai/bogachevv/EEGPatternRecognition' target=\"_blank\">https://wandb.ai/bogachevv/EEGPatternRecognition</a>"
      ],
      "text/plain": [
       "<IPython.core.display.HTML object>"
      ]
     },
     "metadata": {},
     "output_type": "display_data"
    },
    {
     "data": {
      "text/html": [
       " View run at <a href='https://wandb.ai/bogachevv/EEGPatternRecognition/runs/4caa3f6q' target=\"_blank\">https://wandb.ai/bogachevv/EEGPatternRecognition/runs/4caa3f6q</a>"
      ],
      "text/plain": [
       "<IPython.core.display.HTML object>"
      ]
     },
     "metadata": {},
     "output_type": "display_data"
    },
    {
     "data": {
      "application/vnd.jupyter.widget-view+json": {
       "model_id": "91fc0087ae884491b74a4573485a4f5b",
       "version_major": 2,
       "version_minor": 0
      },
      "text/plain": [
       "  0%|          | 0/500 [00:00<?, ?it/s]"
      ]
     },
     "metadata": {},
     "output_type": "display_data"
    },
    {
     "data": {
      "application/vnd.jupyter.widget-view+json": {
       "model_id": "682577eb6d514706b63c9e1e481ff680",
       "version_major": 2,
       "version_minor": 0
      },
      "text/plain": [
       "VBox(children=(Label(value='0.003 MB of 0.003 MB uploaded\\r'), FloatProgress(value=1.0, max=1.0)))"
      ]
     },
     "metadata": {},
     "output_type": "display_data"
    },
    {
     "data": {
      "text/html": [
       "<style>\n",
       "    table.wandb td:nth-child(1) { padding: 0 10px; text-align: left ; width: auto;} td:nth-child(2) {text-align: left ; width: 100%}\n",
       "    .wandb-row { display: flex; flex-direction: row; flex-wrap: wrap; justify-content: flex-start; width: 100% }\n",
       "    .wandb-col { display: flex; flex-direction: column; flex-basis: 100%; flex: 1; padding: 10px; }\n",
       "    </style>\n",
       "<div class=\"wandb-row\"><div class=\"wandb-col\"><h3>Run history:</h3><br/><table class=\"wandb\"><tr><td>train/A_grad</td><td>▁▁▃▄▅▇▄▂▅▄▅▄▃▅▅▄▃▅▃▅▅▅▅▄▄▃▄▄▇▆█▄▅▄▅▃▇▅▄▅</td></tr><tr><td>train/epoch_acc</td><td>▁▂▃▅▅▆▆▆▆▆▇▇▇▇▇▇▇▇▇▇▇▇▇▇▇███████████████</td></tr><tr><td>train/epoch_bc</td><td>▁▁▃▄▄▅▅▆▆▆▆▆▆▇▇▇▇▇▇▇▇▇▇▇▇▇▇▇████████████</td></tr><tr><td>train/epoch_f1</td><td>▁▂▂▃▄▆▆▆▆▆▆▆▆▆▇▇▇▇▇▇▇▇▇▇▇▇▇██▇▇▇████████</td></tr><tr><td>train/epoch_ones</td><td>▃▃▁▁▄▇▆▆▅▆▅▅▆▅▅▆▅▅▅▅▅▅▅▆▄▆▅▅▅▆▆▆▆▆▆▆█▇▆▆</td></tr><tr><td>train/epoch_precision</td><td>▁▅▅▅▆▆▆▆▆▆▇▇▇▇▇▇▇▇▇▇▇▇▇▇▇███████████████</td></tr><tr><td>train/epoch_recall</td><td>▁▂▂▄▄▆▆▆▆▆▇▆▆▆▆▇▇▇▇▇▇▇▇▇▇▇▇▇▇▇▇▇██▇█████</td></tr><tr><td>train/loss</td><td>███▅▅▄▄▄▄▄▃▃▃▃▃▃▃▃▃▃▂▂▂▂▂▂▂▂▂▂▂▂▂▂▁▁▁▁▁▁</td></tr><tr><td>train/max_acc</td><td>▁▂▆▆▆▆▆▆▆▆▇▇▇▇▇▇▇▇▇▇▇▇▇▇▇▇▇▇████████████</td></tr><tr><td>train/min_acc</td><td>▁▂▅▅▆▆▆▆▆▆▆▇▇▇▇▇▇▇▇▇▇▇▇▇▇▇▇▇▇███████████</td></tr><tr><td>val/epoch_acc</td><td>▁▂▄▅▅▇▆▇▇▇███████████████▇█▇███▇██▇██▇██</td></tr><tr><td>val/epoch_bc</td><td>▁▄▇█████████████████▇▇▇▇▇▇▇▇▇▇▇▇▇▇▇▇▇▇▇▇</td></tr><tr><td>val/epoch_f1</td><td>▁▆▇▇▇██████████▇█▇▇▇▇▇▆▇▆▇▆▆▆▆▆▆▆▆▆▆▆▆▅▅</td></tr><tr><td>val/epoch_ones</td><td>▇█▇█▇▅▄▄▃▄▄▃▃▃▄▂▃▃▂▂▂▂▃▃▃▁▃▂▂▂▂▂▃▂▂▂▄▁▃▂</td></tr><tr><td>val/epoch_precision</td><td>▁▄▆▇▇▇▇▇████████████▇████▇████▇▇▇▇▇█▇▇▇▇</td></tr><tr><td>val/epoch_recall</td><td>▁▃▆▇███▇▇▇▇▇▇▆▇▆▆▆▆▆▅▅▆▆▆▅▅▆▅▅▅▅▄▅▅▅▅▅▆▅</td></tr><tr><td>val/loss</td><td>█▇▆▅▄▄▃▃▃▃▂▂▂▂▂▂▂▂▂▂▂▂▂▂▂▁▁▁▂▁▂▁▁▂▂▁▂▂▂▃</td></tr><tr><td>val/max_acc</td><td>▁▂▆▆▆▇▇▇▇▇▇▇▇█▇▇████████▇█▇█▇████▇▇█▇█▇▇</td></tr><tr><td>val/min_acc</td><td>▁▃▄▅▅▆▆▇▇▇▇▇▇▇███████████████▇██████▇▇█▇</td></tr></table><br/></div><div class=\"wandb-col\"><h3>Run summary:</h3><br/><table class=\"wandb\"><tr><td>train/A_grad</td><td>0.12443</td></tr><tr><td>train/epoch_acc</td><td>0.71227</td></tr><tr><td>train/epoch_bc</td><td>0.71227</td></tr><tr><td>train/epoch_f1</td><td>0.71186</td></tr><tr><td>train/epoch_ones</td><td>529.70833</td></tr><tr><td>train/epoch_precision</td><td>0.71289</td></tr><tr><td>train/epoch_recall</td><td>0.71082</td></tr><tr><td>train/loss</td><td>0.19361</td></tr><tr><td>train/max_acc</td><td>0.71783</td></tr><tr><td>train/min_acc</td><td>0.70672</td></tr><tr><td>val/epoch_acc</td><td>0.64467</td></tr><tr><td>val/epoch_bc</td><td>0.60787</td></tr><tr><td>val/epoch_f1</td><td>0.34143</td></tr><tr><td>val/epoch_ones</td><td>394.82353</td></tr><tr><td>val/epoch_precision</td><td>0.24702</td></tr><tr><td>val/epoch_recall</td><td>0.55267</td></tr><tr><td>val/loss</td><td>0.2271</td></tr><tr><td>val/max_acc</td><td>0.65166</td></tr><tr><td>val/min_acc</td><td>0.63767</td></tr></table><br/></div></div>"
      ],
      "text/plain": [
       "<IPython.core.display.HTML object>"
      ]
     },
     "metadata": {},
     "output_type": "display_data"
    },
    {
     "data": {
      "text/html": [
       " View run <strong style=\"color:#cdcd00\">sym-random-acyclic-g100.00000-sd</strong> at: <a href='https://wandb.ai/bogachevv/EEGPatternRecognition/runs/4caa3f6q' target=\"_blank\">https://wandb.ai/bogachevv/EEGPatternRecognition/runs/4caa3f6q</a><br/> View project at: <a href='https://wandb.ai/bogachevv/EEGPatternRecognition' target=\"_blank\">https://wandb.ai/bogachevv/EEGPatternRecognition</a><br/>Synced 5 W&B file(s), 0 media file(s), 2 artifact file(s) and 0 other file(s)"
      ],
      "text/plain": [
       "<IPython.core.display.HTML object>"
      ]
     },
     "metadata": {},
     "output_type": "display_data"
    },
    {
     "data": {
      "text/html": [
       "Find logs at: <code>.\\wandb\\run-20241009_004306-4caa3f6q\\logs</code>"
      ],
      "text/plain": [
       "<IPython.core.display.HTML object>"
      ]
     },
     "metadata": {},
     "output_type": "display_data"
    }
   ],
   "source": [
    "A_res_acyclic = run_exp.run(\n",
    "    run_name_fmt='sym-random-acyclic-g{0}-sd',\n",
    "    reg_cls=regularization.AcyclicReg,\n",
    "    gamma_grid=np.logspace(-3, 2, num=6, base=10),\n",
    "    A_init=torch.zeros_like(A_init),\n",
    "    data_loaders=data_loaders_CNN,\n",
    "    learning_params=learning_params,\n",
    "    device=device\n",
    ")"
   ]
  },
  {
   "cell_type": "code",
   "execution_count": 12,
   "metadata": {},
   "outputs": [],
   "source": [
    "with open('../A_zero_acyclic_sd_dump.bin', 'wb') as f:\n",
    "    pickle.dump(\n",
    "        obj=A_res_acyclic,\n",
    "        file=f\n",
    "    )"
   ]
  },
  {
   "cell_type": "code",
   "execution_count": null,
   "metadata": {},
   "outputs": [],
   "source": []
  }
 ],
 "metadata": {
  "accelerator": "GPU",
  "colab": {
   "authorship_tag": "ABX9TyPYU6bTPlTxkjrzDb0oK8qI",
   "provenance": []
  },
  "kernelspec": {
   "display_name": "ml_venv",
   "language": "python",
   "name": "python3"
  },
  "language_info": {
   "codemirror_mode": {
    "name": "ipython",
    "version": 3
   },
   "file_extension": ".py",
   "mimetype": "text/x-python",
   "name": "python",
   "nbconvert_exporter": "python",
   "pygments_lexer": "ipython3",
   "version": "3.11.9"
  }
 },
 "nbformat": 4,
 "nbformat_minor": 4
}
