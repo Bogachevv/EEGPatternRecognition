{
 "cells": [
  {
   "cell_type": "code",
   "execution_count": 3,
   "metadata": {},
   "outputs": [],
   "source": [
    "from omegaconf import OmegaConf\n",
    "from enum import Enum"
   ]
  },
  {
   "cell_type": "code",
   "execution_count": 4,
   "metadata": {},
   "outputs": [],
   "source": [
    "class ModelType(Enum):\n",
    "    BaseGNN = 1,\n",
    "\n",
    "class AdjLayerInit(Enum):\n",
    "    Random = 1,"
   ]
  },
  {
   "cell_type": "code",
   "execution_count": 5,
   "metadata": {},
   "outputs": [],
   "source": [
    "config = OmegaConf.create({\n",
    "    'model': 'BaseGNN',\n",
    "    'adj_init': 'Random',\n",
    "    'adj_sym': True,\n",
    "    'input_feat_dim': None,\n",
    "    'n_channels': 64,\n",
    "    'base_criterion': 'MSE',\n",
    "    'regularization': ['L1', 'Acyclic'],\n",
    "    'regularization_gamma': [1e-4, 1e-4],\n",
    "    'data_path': r'C:\\Users\\Vladimir\\PycharmProjects\\EEGPatternRecognition\\matrix_dataset',\n",
    "    'train_bs': 1024,\n",
    "    'test_bs': 1024,\n",
    "})"
   ]
  },
  {
   "cell_type": "code",
   "execution_count": 6,
   "metadata": {},
   "outputs": [
    {
     "name": "stdout",
     "output_type": "stream",
     "text": [
      "model: BaseGNN\n",
      "adj_init: Random\n",
      "adj_sym: true\n",
      "input_feat_dim: null\n",
      "n_channels: 64\n",
      "base_criterion: MSE\n",
      "regularization:\n",
      "- L1\n",
      "- Acyclic\n",
      "regularization_gamma:\n",
      "- 0.0001\n",
      "- 0.0001\n",
      "\n"
     ]
    }
   ],
   "source": [
    "print(OmegaConf.to_yaml(config, resolve=False))"
   ]
  },
  {
   "cell_type": "code",
   "execution_count": null,
   "metadata": {},
   "outputs": [],
   "source": []
  }
 ],
 "metadata": {
  "kernelspec": {
   "display_name": "ml_venv",
   "language": "python",
   "name": "python3"
  },
  "language_info": {
   "codemirror_mode": {
    "name": "ipython",
    "version": 3
   },
   "file_extension": ".py",
   "mimetype": "text/x-python",
   "name": "python",
   "nbconvert_exporter": "python",
   "pygments_lexer": "ipython3",
   "version": "3.11.9"
  }
 },
 "nbformat": 4,
 "nbformat_minor": 2
}
